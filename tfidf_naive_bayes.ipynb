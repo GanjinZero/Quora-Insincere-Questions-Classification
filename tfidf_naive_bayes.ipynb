{
 "cells": [
  {
   "cell_type": "code",
   "execution_count": 1,
   "metadata": {},
   "outputs": [
    {
     "name": "stderr",
     "output_type": "stream",
     "text": [
      "C:\\ProgramData\\Anaconda3\\lib\\site-packages\\gensim\\utils.py:1197: UserWarning: detected Windows; aliasing chunkize to chunkize_serial\n",
      "  warnings.warn(\"detected Windows; aliasing chunkize to chunkize_serial\")\n",
      "Using TensorFlow backend.\n"
     ]
    },
    {
     "name": "stdout",
     "output_type": "stream",
     "text": [
      "[nltk_data] Downloading package stopwords to\n",
      "[nltk_data]     C:\\Users\\GanJinZERO\\AppData\\Roaming\\nltk_data...\n",
      "[nltk_data]   Package stopwords is already up-to-date!\n"
     ]
    }
   ],
   "source": [
    "import numpy as np\n",
    "import pandas as pd\n",
    "import os\n",
    "from gensim.models import KeyedVectors\n",
    "from sklearn.model_selection import train_test_split\n",
    "from tqdm import tqdm\n",
    "from nltk.corpus import stopwords\n",
    "import keras.preprocessing.text as T\n",
    "from keras.preprocessing.text import Tokenizer\n",
    "import nltk\n",
    "nltk.download('stopwords')\n",
    "from sklearn.feature_extraction.text import TfidfVectorizer, CountVectorizer"
   ]
  },
  {
   "cell_type": "code",
   "execution_count": 2,
   "metadata": {},
   "outputs": [
    {
     "name": "stdout",
     "output_type": "stream",
     "text": [
      "Train shape :  (1306122, 3)\n",
      "Test shape :  (56370, 2)\n"
     ]
    }
   ],
   "source": [
    "train = pd.read_csv(\"../input/train.csv\")\n",
    "test = pd.read_csv(\"../input/test.csv\")\n",
    "print(\"Train shape : \",train.shape)\n",
    "print(\"Test shape : \",test.shape)"
   ]
  },
  {
   "cell_type": "code",
   "execution_count": 4,
   "metadata": {},
   "outputs": [
    {
     "name": "stdout",
     "output_type": "stream",
     "text": [
      "1044897\n",
      "261225\n",
      "56370\n"
     ]
    }
   ],
   "source": [
    "x_train_all = train[\"question_text\"].values\n",
    "x_test = test[\"question_text\"].values\n",
    "y_train_all = train[\"target\"].values\n",
    "\n",
    "x_train, x_val, y_train, y_val = train_test_split(x_train_all, y_train_all, test_size=0.2, random_state=42)\n",
    "\n",
    "train_len = len(x_train)\n",
    "val_len = len(x_val)\n",
    "test_len = len(x_test)\n",
    "print(train_len)\n",
    "print(val_len)\n",
    "print(test_len)"
   ]
  },
  {
   "cell_type": "code",
   "execution_count": 5,
   "metadata": {},
   "outputs": [],
   "source": [
    "doc = np.concatenate((x_train, x_val, x_test))"
   ]
  },
  {
   "cell_type": "code",
   "execution_count": 27,
   "metadata": {},
   "outputs": [],
   "source": [
    "vectorizer = TfidfVectorizer(stop_words='english', min_df=10, ngram_range=(1, 3))\n",
    "# vectorizer = CountVectorizer(stop_words='english', min_df=5, ngram_range=(1, 3))\n",
    "tfidf_model = vectorizer.fit(doc)\n",
    "train_vector = tfidf_model.transform(x_train)\n",
    "val_vector = tfidf_model.transform(x_val)\n",
    "test_vector = tfidf_model.transform(x_test)"
   ]
  },
  {
   "cell_type": "code",
   "execution_count": 28,
   "metadata": {},
   "outputs": [
    {
     "data": {
      "text/plain": [
       "MultinomialNB(alpha=1.0, class_prior=None, fit_prior=True)"
      ]
     },
     "execution_count": 28,
     "metadata": {},
     "output_type": "execute_result"
    }
   ],
   "source": [
    "from sklearn.naive_bayes import MultinomialNB\n",
    "mnb = MultinomialNB()\n",
    "mnb.fit(train_vector, y_train)"
   ]
  },
  {
   "cell_type": "code",
   "execution_count": 29,
   "metadata": {},
   "outputs": [
    {
     "name": "stdout",
     "output_type": "stream",
     "text": [
      "0.9483204134366925 0.6449667733202068 0.7677651112890926\n"
     ]
    }
   ],
   "source": [
    "y_pred_val = mnb.predict(val_vector)\n",
    "from sklearn.metrics import accuracy_score, precision_score, f1_score\n",
    "acc_val = accuracy_score(y_val, y_pred_val)\n",
    "pre_val = precision_score(y_val, y_pred_val)\n",
    "f1_val = 2 / (1 / acc_val + 1 / pre_val)\n",
    "print(acc_val, pre_val, f1_val)"
   ]
  },
  {
   "cell_type": "code",
   "execution_count": 30,
   "metadata": {},
   "outputs": [],
   "source": [
    "y_pred_val_prob = mnb.predict_proba(val_vector)[:, 1]"
   ]
  },
  {
   "cell_type": "code",
   "execution_count": 31,
   "metadata": {},
   "outputs": [
    {
     "data": {
      "text/plain": [
       "array([0.00062861, 0.00273975, 0.00508476, ..., 0.00831363, 0.02428476,\n",
       "       0.40042209])"
      ]
     },
     "execution_count": 31,
     "metadata": {},
     "output_type": "execute_result"
    }
   ],
   "source": [
    "y_pred_val_prob"
   ]
  },
  {
   "cell_type": "code",
   "execution_count": 33,
   "metadata": {},
   "outputs": [
    {
     "name": "stdout",
     "output_type": "stream",
     "text": [
      "0.21 0.5503901170351105\n"
     ]
    }
   ],
   "source": [
    "from sklearn.metrics import f1_score\n",
    "threshold_optimal = 0\n",
    "f1_max = 0\n",
    "divide_count = 100\n",
    "for i in range(divide_count - 1):\n",
    "    threshold = (i + 1) / divide_count\n",
    "    y_pred_val = np.where(y_pred_val_prob > threshold, 1, 0)\n",
    "    f1 = f1_score(y_val, y_pred_val)\n",
    "    if f1 >= f1_max:\n",
    "        threshold_optimal = threshold\n",
    "        f1_max = f1\n",
    "    # print(threshold, f1)\n",
    "print(threshold_optimal, f1_max)"
   ]
  },
  {
   "cell_type": "code",
   "execution_count": 35,
   "metadata": {},
   "outputs": [],
   "source": [
    "y_pred_test = np.where(mnb.predict_proba(test_vector)[:, 1] > threshold_optimal, 1, 0)\n",
    "out_df = pd.DataFrame({\"qid\":test[\"qid\"].values})\n",
    "out_df['prediction'] = y_pred_test\n",
    "out_df.to_csv(\"submission.csv\", index=False)"
   ]
  },
  {
   "cell_type": "code",
   "execution_count": null,
   "metadata": {},
   "outputs": [],
   "source": []
  }
 ],
 "metadata": {
  "kernelspec": {
   "display_name": "Python 3",
   "language": "python",
   "name": "python3"
  },
  "language_info": {
   "codemirror_mode": {
    "name": "ipython",
    "version": 3
   },
   "file_extension": ".py",
   "mimetype": "text/x-python",
   "name": "python",
   "nbconvert_exporter": "python",
   "pygments_lexer": "ipython3",
   "version": "3.6.4"
  }
 },
 "nbformat": 4,
 "nbformat_minor": 2
}
