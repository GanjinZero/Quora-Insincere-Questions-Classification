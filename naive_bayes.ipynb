{
 "cells": [
  {
   "cell_type": "code",
   "execution_count": 1,
   "metadata": {},
   "outputs": [
    {
     "name": "stderr",
     "output_type": "stream",
     "text": [
      "C:\\ProgramData\\Anaconda3\\lib\\site-packages\\gensim\\utils.py:1197: UserWarning: detected Windows; aliasing chunkize to chunkize_serial\n",
      "  warnings.warn(\"detected Windows; aliasing chunkize to chunkize_serial\")\n",
      "Using TensorFlow backend.\n"
     ]
    }
   ],
   "source": [
    "import numpy as np\n",
    "import pandas as pd\n",
    "import os\n",
    "from gensim.models import KeyedVectors\n",
    "from sklearn.model_selection import train_test_split\n",
    "from tqdm import tqdm\n",
    "from nltk.corpus import stopwords\n",
    "import keras.preprocessing.text as T\n",
    "from keras.preprocessing.text import Tokenizer"
   ]
  },
  {
   "cell_type": "code",
   "execution_count": 2,
   "metadata": {},
   "outputs": [
    {
     "name": "stdout",
     "output_type": "stream",
     "text": [
      "[nltk_data] Downloading package stopwords to\n",
      "[nltk_data]     C:\\Users\\GanJinZERO\\AppData\\Roaming\\nltk_data...\n",
      "[nltk_data]   Package stopwords is already up-to-date!\n"
     ]
    },
    {
     "data": {
      "text/plain": [
       "True"
      ]
     },
     "execution_count": 2,
     "metadata": {},
     "output_type": "execute_result"
    }
   ],
   "source": [
    "import nltk\n",
    "nltk.download('stopwords')"
   ]
  },
  {
   "cell_type": "code",
   "execution_count": 4,
   "metadata": {},
   "outputs": [
    {
     "name": "stdout",
     "output_type": "stream",
     "text": [
      "Train shape :  (1306122, 3)\n",
      "Test shape :  (56370, 2)\n"
     ]
    }
   ],
   "source": [
    "train = pd.read_csv(\"../input/train.csv\")\n",
    "test = pd.read_csv(\"../input/test.csv\")\n",
    "print(\"Train shape : \",train.shape)\n",
    "print(\"Test shape : \",test.shape)"
   ]
  },
  {
   "cell_type": "code",
   "execution_count": 5,
   "metadata": {},
   "outputs": [],
   "source": [
    "text_list = train[\"question_text\"]"
   ]
  },
  {
   "cell_type": "code",
   "execution_count": 6,
   "metadata": {},
   "outputs": [
    {
     "name": "stderr",
     "output_type": "stream",
     "text": [
      "100%|█████████████████████████████████████████████████████████████████████| 1306122/1306122 [00:22<00:00, 59054.25it/s]\n"
     ]
    }
   ],
   "source": [
    "# make word_dict\n",
    "word_dict = dict()\n",
    "for i in tqdm(range(len(text_list))):\n",
    "    text_seg = T.text_to_word_sequence(text_list.values[i])\n",
    "    for j in text_seg:\n",
    "        if j in word_dict:\n",
    "            word_dict[j] += 1\n",
    "        else:\n",
    "            word_dict[j] = 1        "
   ]
  },
  {
   "cell_type": "code",
   "execution_count": 7,
   "metadata": {},
   "outputs": [
    {
     "name": "stdout",
     "output_type": "stream",
     "text": [
      "222161\n"
     ]
    }
   ],
   "source": [
    "#print(word_dict)\n",
    "print(len(word_dict))"
   ]
  },
  {
   "cell_type": "code",
   "execution_count": 8,
   "metadata": {},
   "outputs": [],
   "source": [
    "pop_list = []\n",
    "for word in word_dict:\n",
    "    if word_dict.get(word) < 200:\n",
    "        pop_list += [word]\n",
    "for word in pop_list:\n",
    "    word_dict.pop(word)"
   ]
  },
  {
   "cell_type": "code",
   "execution_count": 9,
   "metadata": {},
   "outputs": [
    {
     "name": "stdout",
     "output_type": "stream",
     "text": [
      "5894\n"
     ]
    }
   ],
   "source": [
    "#print(word_dict)\n",
    "print(len(word_dict))"
   ]
  },
  {
   "cell_type": "code",
   "execution_count": 10,
   "metadata": {},
   "outputs": [
    {
     "name": "stdout",
     "output_type": "stream",
     "text": [
      "5748\n"
     ]
    }
   ],
   "source": [
    "# Pop stop words\n",
    "list_stop_words = list(set(stopwords.words('english')))\n",
    "for word in list_stop_words:\n",
    "    if word in word_dict:\n",
    "        word_dict.pop(word)\n",
    "#print(word_dict)\n",
    "print(len(word_dict))"
   ]
  },
  {
   "cell_type": "code",
   "execution_count": 11,
   "metadata": {},
   "outputs": [],
   "source": [
    "word_order = dict()\n",
    "order = 0\n",
    "for word in word_dict:\n",
    "    word_order[word] = order\n",
    "    order += 1"
   ]
  },
  {
   "cell_type": "code",
   "execution_count": 12,
   "metadata": {},
   "outputs": [],
   "source": [
    "# use_text_length = len(text_list)\n",
    "use_text_length = 20000"
   ]
  },
  {
   "cell_type": "code",
   "execution_count": 13,
   "metadata": {},
   "outputs": [
    {
     "name": "stderr",
     "output_type": "stream",
     "text": [
      "100%|█████████████████████████████████████████████████████████████████████████| 20000/20000 [00:01<00:00, 17803.08it/s]\n"
     ]
    }
   ],
   "source": [
    "x_input = np.zeros((use_text_length, order))\n",
    "for i in tqdm(range(use_text_length)):\n",
    "    x_i = np.zeros((order))\n",
    "    text_seg = T.text_to_word_sequence(text_list.values[i])\n",
    "    for word in text_seg:\n",
    "        if word in word_order:\n",
    "            x_i[word_order[word]] += 1\n",
    "    x_i = x_i.reshape(1, -1)\n",
    "    x_input[i] = x_i\n",
    "x_input_f = x_input.reshape(-1, len(word_order))"
   ]
  },
  {
   "cell_type": "code",
   "execution_count": 14,
   "metadata": {},
   "outputs": [
    {
     "data": {
      "text/plain": [
       "(20000, 5748)"
      ]
     },
     "execution_count": 14,
     "metadata": {},
     "output_type": "execute_result"
    }
   ],
   "source": [
    "x_input_f.shape"
   ]
  },
  {
   "cell_type": "code",
   "execution_count": 15,
   "metadata": {},
   "outputs": [],
   "source": [
    "y = train[\"target\"]"
   ]
  },
  {
   "cell_type": "code",
   "execution_count": 16,
   "metadata": {},
   "outputs": [],
   "source": [
    "y = y.values[0:use_text_length]"
   ]
  },
  {
   "cell_type": "code",
   "execution_count": 17,
   "metadata": {},
   "outputs": [
    {
     "data": {
      "text/plain": [
       "MultinomialNB(alpha=1.0, class_prior=None, fit_prior=True)"
      ]
     },
     "execution_count": 17,
     "metadata": {},
     "output_type": "execute_result"
    }
   ],
   "source": [
    "from sklearn.naive_bayes import MultinomialNB\n",
    "clf = MultinomialNB()\n",
    "clf.fit(x_input_f, y)"
   ]
  },
  {
   "cell_type": "code",
   "execution_count": 18,
   "metadata": {},
   "outputs": [
    {
     "data": {
      "text/html": [
       "<div>\n",
       "<style scoped>\n",
       "    .dataframe tbody tr th:only-of-type {\n",
       "        vertical-align: middle;\n",
       "    }\n",
       "\n",
       "    .dataframe tbody tr th {\n",
       "        vertical-align: top;\n",
       "    }\n",
       "\n",
       "    .dataframe thead th {\n",
       "        text-align: right;\n",
       "    }\n",
       "</style>\n",
       "<table border=\"1\" class=\"dataframe\">\n",
       "  <thead>\n",
       "    <tr style=\"text-align: right;\">\n",
       "      <th></th>\n",
       "      <th>qid</th>\n",
       "      <th>question_text</th>\n",
       "    </tr>\n",
       "  </thead>\n",
       "  <tbody>\n",
       "    <tr>\n",
       "      <th>0</th>\n",
       "      <td>00014894849d00ba98a9</td>\n",
       "      <td>My voice range is A2-C5. My chest voice goes u...</td>\n",
       "    </tr>\n",
       "    <tr>\n",
       "      <th>1</th>\n",
       "      <td>000156468431f09b3cae</td>\n",
       "      <td>How much does a tutor earn in Bangalore?</td>\n",
       "    </tr>\n",
       "    <tr>\n",
       "      <th>2</th>\n",
       "      <td>000227734433360e1aae</td>\n",
       "      <td>What are the best made pocket knives under $20...</td>\n",
       "    </tr>\n",
       "    <tr>\n",
       "      <th>3</th>\n",
       "      <td>0005e06fbe3045bd2a92</td>\n",
       "      <td>Why would they add a hypothetical scenario tha...</td>\n",
       "    </tr>\n",
       "    <tr>\n",
       "      <th>4</th>\n",
       "      <td>00068a0f7f41f50fc399</td>\n",
       "      <td>What is the dresscode for Techmahindra freshers?</td>\n",
       "    </tr>\n",
       "    <tr>\n",
       "      <th>5</th>\n",
       "      <td>000a2d30e3ffd70c070d</td>\n",
       "      <td>How well are you adapting to the Trump era?</td>\n",
       "    </tr>\n",
       "    <tr>\n",
       "      <th>6</th>\n",
       "      <td>000b67672ec9622ff761</td>\n",
       "      <td>What should be the last thing people do in life?</td>\n",
       "    </tr>\n",
       "    <tr>\n",
       "      <th>7</th>\n",
       "      <td>000b7fb1146d712c1105</td>\n",
       "      <td>Received conditional offer for Masters in Inte...</td>\n",
       "    </tr>\n",
       "    <tr>\n",
       "      <th>8</th>\n",
       "      <td>000d665a8ddc426a1907</td>\n",
       "      <td>What does appareils photo mean in French?</td>\n",
       "    </tr>\n",
       "    <tr>\n",
       "      <th>9</th>\n",
       "      <td>000df6fd2229447b2969</td>\n",
       "      <td>Is there a system of Public Interest Litigatio...</td>\n",
       "    </tr>\n",
       "    <tr>\n",
       "      <th>10</th>\n",
       "      <td>000e8d4169c8dc7ab5ee</td>\n",
       "      <td>What's the best weekend plans in Chennai for o...</td>\n",
       "    </tr>\n",
       "    <tr>\n",
       "      <th>11</th>\n",
       "      <td>000ef78071824e781d67</td>\n",
       "      <td>How did GPS get his name?</td>\n",
       "    </tr>\n",
       "    <tr>\n",
       "      <th>12</th>\n",
       "      <td>001014ae8ebec25a597a</td>\n",
       "      <td>Where can I get opt in email marketing services?</td>\n",
       "    </tr>\n",
       "    <tr>\n",
       "      <th>13</th>\n",
       "      <td>0010236e0aa3ab39a282</td>\n",
       "      <td>How do perimenopause and menopause differ?</td>\n",
       "    </tr>\n",
       "    <tr>\n",
       "      <th>14</th>\n",
       "      <td>00105665c8ffd3c5852a</td>\n",
       "      <td>Can a student of B.E. 1st year apply for inter...</td>\n",
       "    </tr>\n",
       "    <tr>\n",
       "      <th>15</th>\n",
       "      <td>00106ef7c87fca3b77a8</td>\n",
       "      <td>What are the advantages and disadvantages of t...</td>\n",
       "    </tr>\n",
       "    <tr>\n",
       "      <th>16</th>\n",
       "      <td>001441e83b68c02c30da</td>\n",
       "      <td>What is fapping?</td>\n",
       "    </tr>\n",
       "    <tr>\n",
       "      <th>17</th>\n",
       "      <td>0014a461bd2a374f2eec</td>\n",
       "      <td>Is murder property theft?</td>\n",
       "    </tr>\n",
       "    <tr>\n",
       "      <th>18</th>\n",
       "      <td>0017148dde8e587c0f9c</td>\n",
       "      <td>Is it possible to get a PR in Canada after on;...</td>\n",
       "    </tr>\n",
       "    <tr>\n",
       "      <th>19</th>\n",
       "      <td>00175846ae0cfa2fc7d4</td>\n",
       "      <td>What should I keep in mind when debating which...</td>\n",
       "    </tr>\n",
       "    <tr>\n",
       "      <th>20</th>\n",
       "      <td>0018d0ba9822bdb872b3</td>\n",
       "      <td>Is a decision tree better than logistic regres...</td>\n",
       "    </tr>\n",
       "    <tr>\n",
       "      <th>21</th>\n",
       "      <td>001a492c2df37ba885d0</td>\n",
       "      <td>Is Donnie Wahlberg a baritone?</td>\n",
       "    </tr>\n",
       "    <tr>\n",
       "      <th>22</th>\n",
       "      <td>001a52478cd34a11aee6</td>\n",
       "      <td>What is a form of self defense that you can te...</td>\n",
       "    </tr>\n",
       "    <tr>\n",
       "      <th>23</th>\n",
       "      <td>001c132aa697402a00db</td>\n",
       "      <td>Is it okay to pluck pubic hair?</td>\n",
       "    </tr>\n",
       "    <tr>\n",
       "      <th>24</th>\n",
       "      <td>001cb1f0c10c8e413418</td>\n",
       "      <td>How do I keep my hair healthy and long without...</td>\n",
       "    </tr>\n",
       "    <tr>\n",
       "      <th>25</th>\n",
       "      <td>001e31e30a5762fa97fd</td>\n",
       "      <td>Are love and attention the same thing?</td>\n",
       "    </tr>\n",
       "    <tr>\n",
       "      <th>26</th>\n",
       "      <td>001e50b789e8db63b7bb</td>\n",
       "      <td>My boy friend and I have very different backgr...</td>\n",
       "    </tr>\n",
       "    <tr>\n",
       "      <th>27</th>\n",
       "      <td>0021ef17b8d5a2cfa678</td>\n",
       "      <td>When near the end of your life what are some t...</td>\n",
       "    </tr>\n",
       "    <tr>\n",
       "      <th>28</th>\n",
       "      <td>00262cae7eb54e29dce7</td>\n",
       "      <td>How did Justice Anthony Kennedy have so much p...</td>\n",
       "    </tr>\n",
       "    <tr>\n",
       "      <th>29</th>\n",
       "      <td>00277400ab4bae3246b0</td>\n",
       "      <td>What are the important uses of lanthanum?</td>\n",
       "    </tr>\n",
       "    <tr>\n",
       "      <th>...</th>\n",
       "      <td>...</td>\n",
       "      <td>...</td>\n",
       "    </tr>\n",
       "    <tr>\n",
       "      <th>56340</th>\n",
       "      <td>ffe1490e6c333cedd2f7</td>\n",
       "      <td>For the Cambridge Advanced Exam, do I need to ...</td>\n",
       "    </tr>\n",
       "    <tr>\n",
       "      <th>56341</th>\n",
       "      <td>ffe36c4e99a0009cd0cb</td>\n",
       "      <td>What are the the investment opportunities today?</td>\n",
       "    </tr>\n",
       "    <tr>\n",
       "      <th>56342</th>\n",
       "      <td>ffe3e5dac8b60c486704</td>\n",
       "      <td>I'm a pedophile who's sexually aroused by pret...</td>\n",
       "    </tr>\n",
       "    <tr>\n",
       "      <th>56343</th>\n",
       "      <td>ffe4e49cea5001b06de0</td>\n",
       "      <td>How easy or difficult is it to earn your bread?</td>\n",
       "    </tr>\n",
       "    <tr>\n",
       "      <th>56344</th>\n",
       "      <td>ffe5333ee3855bf73bdd</td>\n",
       "      <td>What is a rifle and what is a carbine?</td>\n",
       "    </tr>\n",
       "    <tr>\n",
       "      <th>56345</th>\n",
       "      <td>ffe7a676812dfe4926c3</td>\n",
       "      <td>Quora says I violated their policy of politene...</td>\n",
       "    </tr>\n",
       "    <tr>\n",
       "      <th>56346</th>\n",
       "      <td>ffe96f277e3baaddb460</td>\n",
       "      <td>Is it legal for a bank in India to charge for ...</td>\n",
       "    </tr>\n",
       "    <tr>\n",
       "      <th>56347</th>\n",
       "      <td>ffec63bf2ea2d0d43c22</td>\n",
       "      <td>What causes a small lump on my wrist?</td>\n",
       "    </tr>\n",
       "    <tr>\n",
       "      <th>56348</th>\n",
       "      <td>ffec7764880d6b114176</td>\n",
       "      <td>What should a person do when he/she is complet...</td>\n",
       "    </tr>\n",
       "    <tr>\n",
       "      <th>56349</th>\n",
       "      <td>ffecb50df50c50556d8f</td>\n",
       "      <td>Is it legal in the USA to make a Malibu rum ha...</td>\n",
       "    </tr>\n",
       "    <tr>\n",
       "      <th>56350</th>\n",
       "      <td>ffeeea70c26526195b55</td>\n",
       "      <td>Is proper care of the cerebral palsy possible?</td>\n",
       "    </tr>\n",
       "    <tr>\n",
       "      <th>56351</th>\n",
       "      <td>ffef23c893372ee432f9</td>\n",
       "      <td>How many words have shifted from the passive l...</td>\n",
       "    </tr>\n",
       "    <tr>\n",
       "      <th>56352</th>\n",
       "      <td>ffefbc6cbc7b9adfc7ea</td>\n",
       "      <td>What would you expect from a very good proposa...</td>\n",
       "    </tr>\n",
       "    <tr>\n",
       "      <th>56353</th>\n",
       "      <td>fff129834ba83186f1e6</td>\n",
       "      <td>What are some electrical outlets needed in Eng...</td>\n",
       "    </tr>\n",
       "    <tr>\n",
       "      <th>56354</th>\n",
       "      <td>fff1f11c2e36bb79c92d</td>\n",
       "      <td>What courses can train a person on charisma in...</td>\n",
       "    </tr>\n",
       "    <tr>\n",
       "      <th>56355</th>\n",
       "      <td>fff1f6a405468d63be8b</td>\n",
       "      <td>How do you make your (at home) massage therapi...</td>\n",
       "    </tr>\n",
       "    <tr>\n",
       "      <th>56356</th>\n",
       "      <td>fff20729419cc44c222b</td>\n",
       "      <td>What has someone done that made you feel valid...</td>\n",
       "    </tr>\n",
       "    <tr>\n",
       "      <th>56357</th>\n",
       "      <td>fff21d679026c090dbc2</td>\n",
       "      <td>Did the WW1 gas masks actualy work or was it a...</td>\n",
       "    </tr>\n",
       "    <tr>\n",
       "      <th>56358</th>\n",
       "      <td>fff3197749c50a48833c</td>\n",
       "      <td>When were the earliest cosmetic products used?</td>\n",
       "    </tr>\n",
       "    <tr>\n",
       "      <th>56359</th>\n",
       "      <td>fff3a8510e7177c68b82</td>\n",
       "      <td>Why, if the body is \"disconnected\" when we are...</td>\n",
       "    </tr>\n",
       "    <tr>\n",
       "      <th>56360</th>\n",
       "      <td>fff48bceec3d565dce42</td>\n",
       "      <td>What's your true calling and are you working t...</td>\n",
       "    </tr>\n",
       "    <tr>\n",
       "      <th>56361</th>\n",
       "      <td>fff5b5552fbb05a98f8b</td>\n",
       "      <td>Why does Quora hide short answers to yes or no...</td>\n",
       "    </tr>\n",
       "    <tr>\n",
       "      <th>56362</th>\n",
       "      <td>fff98b13ab94f1a5d37f</td>\n",
       "      <td>What’s the funniest thing to ever happen to you?</td>\n",
       "    </tr>\n",
       "    <tr>\n",
       "      <th>56363</th>\n",
       "      <td>fffb418e5e087182294d</td>\n",
       "      <td>How can I make squid tender?</td>\n",
       "    </tr>\n",
       "    <tr>\n",
       "      <th>56364</th>\n",
       "      <td>fffc3df92967fc1ff426</td>\n",
       "      <td>Why did England become the biggest colonial po...</td>\n",
       "    </tr>\n",
       "    <tr>\n",
       "      <th>56365</th>\n",
       "      <td>fffcf200619ef3426fc5</td>\n",
       "      <td>Would I owe Queen Elizabeth II, if I could som...</td>\n",
       "    </tr>\n",
       "    <tr>\n",
       "      <th>56366</th>\n",
       "      <td>fffd424460c17be3f503</td>\n",
       "      <td>Is 6740 a good rank in Manipal online test?</td>\n",
       "    </tr>\n",
       "    <tr>\n",
       "      <th>56367</th>\n",
       "      <td>fffe18f21e5e070e55de</td>\n",
       "      <td>What would you like DC to do to make their mov...</td>\n",
       "    </tr>\n",
       "    <tr>\n",
       "      <th>56368</th>\n",
       "      <td>fffe4dd6bb7fd8fc1924</td>\n",
       "      <td>Do you think our system is fair? Consider fact...</td>\n",
       "    </tr>\n",
       "    <tr>\n",
       "      <th>56369</th>\n",
       "      <td>fffed08be2626f74b139</td>\n",
       "      <td>Why do all the stupid people I know tend to be...</td>\n",
       "    </tr>\n",
       "  </tbody>\n",
       "</table>\n",
       "<p>56370 rows × 2 columns</p>\n",
       "</div>"
      ],
      "text/plain": [
       "                        qid                                      question_text\n",
       "0      00014894849d00ba98a9  My voice range is A2-C5. My chest voice goes u...\n",
       "1      000156468431f09b3cae           How much does a tutor earn in Bangalore?\n",
       "2      000227734433360e1aae  What are the best made pocket knives under $20...\n",
       "3      0005e06fbe3045bd2a92  Why would they add a hypothetical scenario tha...\n",
       "4      00068a0f7f41f50fc399   What is the dresscode for Techmahindra freshers?\n",
       "5      000a2d30e3ffd70c070d        How well are you adapting to the Trump era?\n",
       "6      000b67672ec9622ff761   What should be the last thing people do in life?\n",
       "7      000b7fb1146d712c1105  Received conditional offer for Masters in Inte...\n",
       "8      000d665a8ddc426a1907          What does appareils photo mean in French?\n",
       "9      000df6fd2229447b2969  Is there a system of Public Interest Litigatio...\n",
       "10     000e8d4169c8dc7ab5ee  What's the best weekend plans in Chennai for o...\n",
       "11     000ef78071824e781d67                          How did GPS get his name?\n",
       "12     001014ae8ebec25a597a   Where can I get opt in email marketing services?\n",
       "13     0010236e0aa3ab39a282         How do perimenopause and menopause differ?\n",
       "14     00105665c8ffd3c5852a  Can a student of B.E. 1st year apply for inter...\n",
       "15     00106ef7c87fca3b77a8  What are the advantages and disadvantages of t...\n",
       "16     001441e83b68c02c30da                                   What is fapping?\n",
       "17     0014a461bd2a374f2eec                          Is murder property theft?\n",
       "18     0017148dde8e587c0f9c  Is it possible to get a PR in Canada after on;...\n",
       "19     00175846ae0cfa2fc7d4  What should I keep in mind when debating which...\n",
       "20     0018d0ba9822bdb872b3  Is a decision tree better than logistic regres...\n",
       "21     001a492c2df37ba885d0                     Is Donnie Wahlberg a baritone?\n",
       "22     001a52478cd34a11aee6  What is a form of self defense that you can te...\n",
       "23     001c132aa697402a00db                    Is it okay to pluck pubic hair?\n",
       "24     001cb1f0c10c8e413418  How do I keep my hair healthy and long without...\n",
       "25     001e31e30a5762fa97fd             Are love and attention the same thing?\n",
       "26     001e50b789e8db63b7bb  My boy friend and I have very different backgr...\n",
       "27     0021ef17b8d5a2cfa678  When near the end of your life what are some t...\n",
       "28     00262cae7eb54e29dce7  How did Justice Anthony Kennedy have so much p...\n",
       "29     00277400ab4bae3246b0          What are the important uses of lanthanum?\n",
       "...                     ...                                                ...\n",
       "56340  ffe1490e6c333cedd2f7  For the Cambridge Advanced Exam, do I need to ...\n",
       "56341  ffe36c4e99a0009cd0cb   What are the the investment opportunities today?\n",
       "56342  ffe3e5dac8b60c486704  I'm a pedophile who's sexually aroused by pret...\n",
       "56343  ffe4e49cea5001b06de0    How easy or difficult is it to earn your bread?\n",
       "56344  ffe5333ee3855bf73bdd             What is a rifle and what is a carbine?\n",
       "56345  ffe7a676812dfe4926c3  Quora says I violated their policy of politene...\n",
       "56346  ffe96f277e3baaddb460  Is it legal for a bank in India to charge for ...\n",
       "56347  ffec63bf2ea2d0d43c22              What causes a small lump on my wrist?\n",
       "56348  ffec7764880d6b114176  What should a person do when he/she is complet...\n",
       "56349  ffecb50df50c50556d8f  Is it legal in the USA to make a Malibu rum ha...\n",
       "56350  ffeeea70c26526195b55     Is proper care of the cerebral palsy possible?\n",
       "56351  ffef23c893372ee432f9  How many words have shifted from the passive l...\n",
       "56352  ffefbc6cbc7b9adfc7ea  What would you expect from a very good proposa...\n",
       "56353  fff129834ba83186f1e6  What are some electrical outlets needed in Eng...\n",
       "56354  fff1f11c2e36bb79c92d  What courses can train a person on charisma in...\n",
       "56355  fff1f6a405468d63be8b  How do you make your (at home) massage therapi...\n",
       "56356  fff20729419cc44c222b  What has someone done that made you feel valid...\n",
       "56357  fff21d679026c090dbc2  Did the WW1 gas masks actualy work or was it a...\n",
       "56358  fff3197749c50a48833c     When were the earliest cosmetic products used?\n",
       "56359  fff3a8510e7177c68b82  Why, if the body is \"disconnected\" when we are...\n",
       "56360  fff48bceec3d565dce42  What's your true calling and are you working t...\n",
       "56361  fff5b5552fbb05a98f8b  Why does Quora hide short answers to yes or no...\n",
       "56362  fff98b13ab94f1a5d37f   What’s the funniest thing to ever happen to you?\n",
       "56363  fffb418e5e087182294d                       How can I make squid tender?\n",
       "56364  fffc3df92967fc1ff426  Why did England become the biggest colonial po...\n",
       "56365  fffcf200619ef3426fc5  Would I owe Queen Elizabeth II, if I could som...\n",
       "56366  fffd424460c17be3f503        Is 6740 a good rank in Manipal online test?\n",
       "56367  fffe18f21e5e070e55de  What would you like DC to do to make their mov...\n",
       "56368  fffe4dd6bb7fd8fc1924  Do you think our system is fair? Consider fact...\n",
       "56369  fffed08be2626f74b139  Why do all the stupid people I know tend to be...\n",
       "\n",
       "[56370 rows x 2 columns]"
      ]
     },
     "execution_count": 18,
     "metadata": {},
     "output_type": "execute_result"
    }
   ],
   "source": [
    "test"
   ]
  },
  {
   "cell_type": "code",
   "execution_count": 19,
   "metadata": {},
   "outputs": [
    {
     "name": "stderr",
     "output_type": "stream",
     "text": [
      "100%|█████████████████████████████████████████████████████████████████████████| 56370/56370 [00:03<00:00, 18280.82it/s]\n"
     ]
    }
   ],
   "source": [
    "test_list = test[\"question_text\"]\n",
    "test_length = len(test_list)\n",
    "test_input = np.zeros((test_length, order))\n",
    "for i in tqdm(range(test_length)):\n",
    "    x_i = np.zeros((order))\n",
    "    text_seg = T.text_to_word_sequence(test_list.values[i])\n",
    "    for word in text_seg:\n",
    "        if word in word_order:\n",
    "            x_i[word_order[word]] += 1\n",
    "    x_i = x_i.reshape(1, -1)\n",
    "    test_input[i] = x_i\n",
    "test_input_f = test_input.reshape(-1, len(word_order))"
   ]
  },
  {
   "cell_type": "code",
   "execution_count": 20,
   "metadata": {},
   "outputs": [],
   "source": [
    "y_pred = clf.predict(test_input_f)"
   ]
  },
  {
   "cell_type": "code",
   "execution_count": 21,
   "metadata": {},
   "outputs": [
    {
     "data": {
      "text/plain": [
       "0.06375731772219266"
      ]
     },
     "execution_count": 21,
     "metadata": {},
     "output_type": "execute_result"
    }
   ],
   "source": [
    "sum(y_pred)/len(y_pred)"
   ]
  },
  {
   "cell_type": "code",
   "execution_count": 22,
   "metadata": {},
   "outputs": [],
   "source": [
    "out_df = pd.DataFrame({\"qid\":test[\"qid\"].values})\n",
    "out_df['prediction'] = y_pred\n",
    "out_df.to_csv(\"submission.csv\", index=False)"
   ]
  }
 ],
 "metadata": {
  "kernelspec": {
   "display_name": "Python 3",
   "language": "python",
   "name": "python3"
  },
  "language_info": {
   "codemirror_mode": {
    "name": "ipython",
    "version": 3
   },
   "file_extension": ".py",
   "mimetype": "text/x-python",
   "name": "python",
   "nbconvert_exporter": "python",
   "pygments_lexer": "ipython3",
   "version": "3.6.4"
  }
 },
 "nbformat": 4,
 "nbformat_minor": 2
}
